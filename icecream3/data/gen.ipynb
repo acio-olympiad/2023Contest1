{
 "cells": [
  {
   "cell_type": "code",
   "execution_count": 3,
   "id": "2460bb8d-037a-47a8-aebd-7327b4d37ae6",
   "metadata": {
    "tags": []
   },
   "outputs": [],
   "source": [
    "import networkx as nx\n",
    "import numpy as np"
   ]
  },
  {
   "cell_type": "code",
   "execution_count": 25,
   "id": "3454e626-991d-4b27-94f6-5fc41aee9ca0",
   "metadata": {
    "tags": []
   },
   "outputs": [
    {
     "name": "stdout",
     "output_type": "stream",
     "text": [
      "6 7\n",
      "0 1 7875\n",
      "0 3 7146\n",
      "1 2 8337\n",
      "1 4 8238\n",
      "2 5 5480\n",
      "3 4 2426\n",
      "4 5 9735\n"
     ]
    }
   ],
   "source": [
    "rng = np.random.default_rng(seed=50)\n",
    "rng.integers(1, 1000)\n",
    "print_graph(*get_random_graph(1, 6, rng))"
   ]
  },
  {
   "cell_type": "code",
   "execution_count": 31,
   "id": "119c9664-bf5b-4def-ae84-b5e51205810e",
   "metadata": {
    "tags": []
   },
   "outputs": [],
   "source": [
    "def get_random_graph(subtask, N, rng):\n",
    "    assert N % 2 == 0\n",
    "    halfn = N // 2\n",
    "    lg = nx.ladder_graph(halfn)\n",
    "    res = []\n",
    "    for u, v in lg.edges:\n",
    "        res.append((u, v, rng.integers(1, 10001) if subtask != 2 else 1))\n",
    "    return len(lg.nodes), res"
   ]
  },
  {
   "cell_type": "code",
   "execution_count": 24,
   "id": "e282b4a3-5917-48c7-8069-48749cd34681",
   "metadata": {
    "tags": []
   },
   "outputs": [],
   "source": [
    "def print_graph(N, edges):\n",
    "    print(N, len(edges))\n",
    "    for a, b, c in edges:\n",
    "        print(a, b, c)"
   ]
  },
  {
   "cell_type": "code",
   "execution_count": 32,
   "id": "72036904-775c-4008-b831-3f6c380f23e5",
   "metadata": {
    "tags": []
   },
   "outputs": [
    {
     "name": "stdout",
     "output_type": "stream",
     "text": [
      "Written sub1-0.in\n",
      "Written sub1-1.in\n",
      "Written sub1-2.in\n",
      "Written sub1-3.in\n",
      "Written sub1-4.in\n",
      "Written sub1-5.in\n",
      "Written sub1-6.in\n",
      "Written sub1-7.in\n",
      "Written sub1-8.in\n",
      "Written sub1-9.in\n",
      "Written sub2-10.in\n",
      "Written sub2-11.in\n",
      "Written sub2-12.in\n",
      "Written sub2-13.in\n",
      "Written sub2-14.in\n",
      "Written sub2-15.in\n",
      "Written sub3-16.in\n",
      "Written sub3-17.in\n",
      "Written sub3-18.in\n",
      "Written sub3-19.in\n",
      "Written sub3-20.in\n",
      "Written sub3-21.in\n"
     ]
    }
   ],
   "source": [
    "# Subtask, N\n",
    "CASES = [\n",
    "    (1, 2),\n",
    "    (1, 4),\n",
    "    (1, 6),\n",
    "    (1, 100),\n",
    "    (1, 100),\n",
    "    (1, 100),\n",
    "    (1, 1000),\n",
    "    (1, 1000),\n",
    "    (1, 1000),\n",
    "    (1, 1000),\n",
    "    (1, 1000),\n",
    "    (1, 1000),\n",
    "    (1, 1000),\n",
    "    (1, 1000),\n",
    "    (1, 1000),\n",
    "    (1, 1000),\n",
    "    (2, 2),\n",
    "    (2, 4),\n",
    "    (2, 42042),\n",
    "    (2, 69420),\n",
    "    (2, 100000),\n",
    "    (3, 100000),\n",
    "    (3, 100000),\n",
    "    (3, 100000),\n",
    "    (3, 100000)\n",
    "]\n",
    "\n",
    "for i, (sub, N) in enumerate(CASES):\n",
    "    fn = f\"sub{sub}-{i}.in\"\n",
    "    N, edges = get_random_graph(sub, N, np.random.default_rng(seed=178*i + 349))\n",
    "    with open(fn, \"w\") as f:\n",
    "        f.write(f\"{N} {len(edges)}\\n\")\n",
    "        for a, b, c in edges:\n",
    "            f.write(f\"{a} {b} {c}\\n\")\n",
    "    print(\"Written\", fn)\n"
   ]
  },
  {
   "cell_type": "code",
   "execution_count": null,
   "id": "7f835c6e-9e52-488b-a9a8-3e3e9c51b375",
   "metadata": {},
   "outputs": [],
   "source": []
  }
 ],
 "metadata": {
  "kernelspec": {
   "display_name": "Python 3 (ipykernel)",
   "language": "python",
   "name": "python3"
  },
  "language_info": {
   "codemirror_mode": {
    "name": "ipython",
    "version": 3
   },
   "file_extension": ".py",
   "mimetype": "text/x-python",
   "name": "python",
   "nbconvert_exporter": "python",
   "pygments_lexer": "ipython3",
   "version": "3.10.9"
  }
 },
 "nbformat": 4,
 "nbformat_minor": 5
}
