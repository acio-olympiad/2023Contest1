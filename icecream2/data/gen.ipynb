{
 "cells": [
  {
   "cell_type": "code",
   "execution_count": 4,
   "id": "2460bb8d-037a-47a8-aebd-7327b4d37ae6",
   "metadata": {
    "tags": []
   },
   "outputs": [],
   "source": [
    "import networkx as nx\n",
    "import numpy as np"
   ]
  },
  {
   "cell_type": "code",
   "execution_count": 18,
   "id": "3454e626-991d-4b27-94f6-5fc41aee9ca0",
   "metadata": {
    "tags": []
   },
   "outputs": [
    {
     "name": "stdout",
     "output_type": "stream",
     "text": [
      "7 8\n",
      "0 2 7812\n",
      "0 3 2301\n",
      "1 4 5889\n",
      "2 3 4928\n",
      "3 5 3397\n",
      "4 5 7533\n",
      "4 6 5099\n",
      "5 6 7043\n",
      "1 6 5 1 5 3\n"
     ]
    }
   ],
   "source": [
    "\n",
    "print_graph(*get_random_graph(1, 6, 2, 55))"
   ]
  },
  {
   "cell_type": "code",
   "execution_count": 14,
   "id": "119c9664-bf5b-4def-ae84-b5e51205810e",
   "metadata": {
    "tags": []
   },
   "outputs": [],
   "source": [
    "def get_random_graph(subtask, N, nextra, seed):\n",
    "    rng = np.random.default_rng(seed=seed)\n",
    "    if subtask == 2:\n",
    "        assert nextra == 0\n",
    "    else:\n",
    "        assert 0 <= nextra <= 11\n",
    "    lg = nx.random_tree(N, seed=seed+1)\n",
    "    while len(lg.edges) < N + nextra - 1:\n",
    "        u = rng.integers(1, N)\n",
    "        v = rng.integers(u, N+1)\n",
    "        if not lg.has_edge(u, v):\n",
    "            lg.add_edge(u, v)\n",
    "    \n",
    "    assert len(lg.edges) == N + nextra - 1\n",
    "    \n",
    "    res = []\n",
    "    q = []\n",
    "    for u, v in lg.edges:\n",
    "        res.append((u, v, rng.integers(1, 10001)))\n",
    "    for i in range(N):\n",
    "        q.append(rng.integers(1, N+1))\n",
    "    return len(lg.nodes), res, q"
   ]
  },
  {
   "cell_type": "code",
   "execution_count": 6,
   "id": "e282b4a3-5917-48c7-8069-48749cd34681",
   "metadata": {
    "tags": []
   },
   "outputs": [],
   "source": [
    "def print_graph(N, edges, q):\n",
    "    print(N, len(edges))\n",
    "    for a, b, c in edges:\n",
    "        print(a, b, c)\n",
    "    print(*q)"
   ]
  },
  {
   "cell_type": "code",
   "execution_count": 20,
   "id": "72036904-775c-4008-b831-3f6c380f23e5",
   "metadata": {
    "tags": []
   },
   "outputs": [
    {
     "name": "stdout",
     "output_type": "stream",
     "text": [
      "Written sub1-0.in\n",
      "Written sub1-1.in\n",
      "Written sub1-2.in\n",
      "Written sub1-3.in\n",
      "Written sub1-4.in\n",
      "Written sub1-5.in\n",
      "Written sub1-6.in\n",
      "Written sub1-7.in\n",
      "Written sub1-8.in\n",
      "Written sub1-9.in\n",
      "Written sub1-10.in\n",
      "Written sub1-11.in\n",
      "Written sub1-12.in\n",
      "Written sub1-13.in\n",
      "Written sub1-14.in\n",
      "Written sub1-15.in\n",
      "Written sub2-16.in\n",
      "Written sub2-17.in\n",
      "Written sub2-18.in\n",
      "Written sub2-19.in\n",
      "Written sub3-20.in\n",
      "Written sub3-21.in\n",
      "Written sub3-22.in\n",
      "Written sub3-23.in\n",
      "Written sub3-24.in\n"
     ]
    }
   ],
   "source": [
    "# Subtask, N\n",
    "CASES = [\n",
    "    (1, 2, 0),\n",
    "    (1, 4, 0),\n",
    "    (1, 6, 2),\n",
    "    (1, 100, 0),\n",
    "    (1, 100, 1),\n",
    "    (1, 100, 2),\n",
    "    (1, 1000, 11),\n",
    "    (1, 1000, 11),\n",
    "    (1, 1000, 11),\n",
    "    (1, 1000, 11),\n",
    "    (1, 1000, 11),\n",
    "    (1, 1000, 11),\n",
    "    (1, 1000, 11),\n",
    "    (1, 1000, 11),\n",
    "    (1, 1000, 11),\n",
    "    (1, 1000, 11),\n",
    "    (2, 100000, 0),\n",
    "    (2, 100000, 0),\n",
    "    (2, 100000, 0),\n",
    "    (2, 100000, 0),\n",
    "    (3, 100000, 11),\n",
    "    (3, 100000, 11),\n",
    "    (3, 100000, 11),\n",
    "    (3, 100000, 11),\n",
    "    (3, 100000, 11)\n",
    "]\n",
    "\n",
    "for i, (sub, N, maxextra) in enumerate(CASES):\n",
    "    fn = f\"sub{sub}-{i}.in\"\n",
    "    N, edges, queries = get_random_graph(sub, N, maxextra, 178*i + 349)\n",
    "    with open(fn, \"w\") as f:\n",
    "        f.write(f\"{N} {len(edges)}\\n\")\n",
    "        for a, b, c in edges:\n",
    "            f.write(f\"{a} {b} {c}\\n\")\n",
    "    print(\"Written\", fn)\n"
   ]
  },
  {
   "cell_type": "code",
   "execution_count": null,
   "id": "7f835c6e-9e52-488b-a9a8-3e3e9c51b375",
   "metadata": {},
   "outputs": [],
   "source": []
  }
 ],
 "metadata": {
  "kernelspec": {
   "display_name": "Python 3 (ipykernel)",
   "language": "python",
   "name": "python3"
  },
  "language_info": {
   "codemirror_mode": {
    "name": "ipython",
    "version": 3
   },
   "file_extension": ".py",
   "mimetype": "text/x-python",
   "name": "python",
   "nbconvert_exporter": "python",
   "pygments_lexer": "ipython3",
   "version": "3.10.9"
  }
 },
 "nbformat": 4,
 "nbformat_minor": 5
}
